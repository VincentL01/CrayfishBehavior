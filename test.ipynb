{
 "cells": [
  {
   "cell_type": "code",
   "execution_count": 22,
   "metadata": {},
   "outputs": [
    {
     "data": {
      "text/plain": [
       "{'CONVERSION_RATE': 14.3,\n",
       " 'CENTER_X': 327,\n",
       " 'CENTER_Y': 258,\n",
       " 'FPS': 30,\n",
       " 'DURATION': 600,\n",
       " 'EC_THRESHOLD': 3,\n",
       " 'SPEED_THRESHOLD_1': 1,\n",
       " 'SPEED_THRESHOLD_2': 5,\n",
       " 'INTERACTION_THRESHOLD': 3,\n",
       " 'FIGHTING_THRESHOLD': 3,\n",
       " 'CHASING_THRESHOLD': 3}"
      ]
     },
     "execution_count": 22,
     "metadata": {},
     "output_type": "execute_result"
    }
   ],
   "source": [
    "from Libs.functions import load_df, load_params\n",
    "import os\n",
    "import pandas as pd\n",
    "\n",
    "ROOT = os.path.dirname(os.path.realpath(\"test.ipynb\"))\n",
    "PARAMS_PATH = os.path.join(ROOT, 'Bin', 'parameters.json')\n",
    "\n",
    "params = load_params(PARAMS_PATH)\n",
    "params"
   ]
  },
  {
   "cell_type": "code",
   "execution_count": 23,
   "metadata": {},
   "outputs": [
    {
     "name": "stderr",
     "output_type": "stream",
     "text": [
      "C:\\Users\\ELAINE HUYNH\\AppData\\Local\\Temp\\ipykernel_23940\\322075593.py:12: DtypeWarning: Columns (0,1,2,3,4,5,6,7,8,9,10,11,12,13,14,15,16,17,18,19,20,21,22,23,24,25,26,27,28,29,30,31,32,33,34,35,36,37,38,39,40,41,42) have mixed types. Specify dtype option on import or set low_memory=False.\n",
      "  df = pd.read_csv(import_file_path)\n"
     ]
    }
   ],
   "source": [
    "import_file_path = r\"D:\\Code\\Michael\\CrayfishBehavior\\Input\\SRT14-C-1DLC_resnet152_Crayfish behaviorNov21shuffle1_180000_el_filtered.csv\"\n",
    "\n",
    "if import_file_path.endswith('.xlsx'):\n",
    "    # check if excel file contains multiple sheets\n",
    "    if len(pd.ExcelFile(import_file_path).sheet_names) > 1:\n",
    "        print('Warning: Excel file contains multiple sheets, only the first sheet will be analyzed.')\n",
    "    # if excel file contains multiple sheets, select the first sheet, no matter its name is\n",
    "    sheet_0_name = pd.ExcelFile(import_file_path).sheet_names[0]\n",
    "    df = pd.read_excel(import_file_path, sheet_name=sheet_0_name)\n",
    "    # df = pd.read_excel(import_file_path)\n",
    "elif import_file_path.endswith('.csv'):\n",
    "    df = pd.read_csv(import_file_path)"
   ]
  },
  {
   "cell_type": "code",
   "execution_count": 24,
   "metadata": {},
   "outputs": [],
   "source": [
    "input_df = df"
   ]
  },
  {
   "cell_type": "code",
   "execution_count": 30,
   "metadata": {},
   "outputs": [
    {
     "name": "stdout",
     "output_type": "stream",
     "text": [
      "['bodyparts' 'Rostrum' 'Head' 'Telson' 'LeftPincer' 'LeftChelipod'\n",
      " 'RightPincer' 'RightChelipod']\n",
      "['Rostrum', 'Head', 'Telson', 'LeftPincer', 'LeftChelipod', 'RightPincer', 'RightChelipod']\n"
     ]
    }
   ],
   "source": [
    "if 'scorer' in input_df.columns:\n",
    "    input_df.columns = input_df.iloc[0]\n",
    "    input_df = input_df.drop(0)\n",
    "\n",
    "#get unique values of row index 0\n",
    "row_0 = input_df.iloc[0].unique()\n",
    "row_0 = [x for x in row_0 if str(x) != 'bodyparts']\n",
    "# ['Rostrum', 'Head', 'Telson', 'LeftPincer', 'LeftChelipod', 'RightPincer', 'RightChelipod']\n",
    "new_columns = []\n",
    "for x in row_0:\n",
    "    new_columns.append(x+\"_X\")\n",
    "    new_columns.append(x+\"_Y\")\n",
    "    new_columns.append(x+\"_likelihood\")\n",
    "\n",
    "length = params['DURATION'] * params['FPS'] + 1\n",
    "    "
   ]
  },
  {
   "cell_type": "code",
   "execution_count": 21,
   "metadata": {},
   "outputs": [
    {
     "ename": "ValueError",
     "evalue": "Length mismatch: Expected axis has 42 elements, new values have 87 elements",
     "output_type": "error",
     "traceback": [
      "\u001b[1;31m---------------------------------------------------------------------------\u001b[0m",
      "\u001b[1;31mValueError\u001b[0m                                Traceback (most recent call last)",
      "\u001b[1;32md:\\Code\\Michael\\CrayfishBehavior\\test.ipynb Cell 6\u001b[0m in \u001b[0;36m2\n\u001b[0;32m     <a href='vscode-notebook-cell:/d%3A/Code/Michael/CrayfishBehavior/test.ipynb#W5sZmlsZQ%3D%3D?line=21'>22</a>\u001b[0m     CF \u001b[39m=\u001b[39m CF\u001b[39m.\u001b[39mastype(\u001b[39mfloat\u001b[39m)\n\u001b[0;32m     <a href='vscode-notebook-cell:/d%3A/Code/Michael/CrayfishBehavior/test.ipynb#W5sZmlsZQ%3D%3D?line=23'>24</a>\u001b[0m     \u001b[39mreturn\u001b[39;00m CF\n\u001b[1;32m---> <a href='vscode-notebook-cell:/d%3A/Code/Michael/CrayfishBehavior/test.ipynb#W5sZmlsZQ%3D%3D?line=25'>26</a>\u001b[0m CF1 \u001b[39m=\u001b[39m get_CF(input_df, \u001b[39m1\u001b[39;49m, \u001b[39m1\u001b[39;49m, \u001b[39mlen\u001b[39;49m(row_0)\u001b[39m*\u001b[39;49m\u001b[39m3\u001b[39;49m\u001b[39m+\u001b[39;49m\u001b[39m1\u001b[39;49m)\n\u001b[0;32m     <a href='vscode-notebook-cell:/d%3A/Code/Michael/CrayfishBehavior/test.ipynb#W5sZmlsZQ%3D%3D?line=26'>27</a>\u001b[0m CF1\n",
      "\u001b[1;32md:\\Code\\Michael\\CrayfishBehavior\\test.ipynb Cell 6\u001b[0m in \u001b[0;36m5\n\u001b[0;32m      <a href='vscode-notebook-cell:/d%3A/Code/Michael/CrayfishBehavior/test.ipynb#W5sZmlsZQ%3D%3D?line=2'>3</a>\u001b[0m CF \u001b[39m=\u001b[39m input_df\u001b[39m.\u001b[39miloc[:,col1:coln]\n\u001b[0;32m      <a href='vscode-notebook-cell:/d%3A/Code/Michael/CrayfishBehavior/test.ipynb#W5sZmlsZQ%3D%3D?line=3'>4</a>\u001b[0m \u001b[39m# Rename the columns\u001b[39;00m\n\u001b[1;32m----> <a href='vscode-notebook-cell:/d%3A/Code/Michael/CrayfishBehavior/test.ipynb#W5sZmlsZQ%3D%3D?line=4'>5</a>\u001b[0m CF\u001b[39m.\u001b[39;49mcolumns \u001b[39m=\u001b[39m new_columns\n\u001b[0;32m      <a href='vscode-notebook-cell:/d%3A/Code/Michael/CrayfishBehavior/test.ipynb#W5sZmlsZQ%3D%3D?line=5'>6</a>\u001b[0m \u001b[39m# Remove columns with _likelihood\u001b[39;00m\n\u001b[0;32m      <a href='vscode-notebook-cell:/d%3A/Code/Michael/CrayfishBehavior/test.ipynb#W5sZmlsZQ%3D%3D?line=6'>7</a>\u001b[0m CF \u001b[39m=\u001b[39m CF\u001b[39m.\u001b[39mloc[:,\u001b[39m~\u001b[39mCF\u001b[39m.\u001b[39mcolumns\u001b[39m.\u001b[39mstr\u001b[39m.\u001b[39mcontains(\u001b[39m'\u001b[39m\u001b[39m_likelihood\u001b[39m\u001b[39m'\u001b[39m)]\n",
      "File \u001b[1;32mc:\\ProgramData\\Anaconda3\\envs\\myenv\\lib\\site-packages\\pandas\\core\\generic.py:5920\u001b[0m, in \u001b[0;36mNDFrame.__setattr__\u001b[1;34m(self, name, value)\u001b[0m\n\u001b[0;32m   5918\u001b[0m \u001b[39mtry\u001b[39;00m:\n\u001b[0;32m   5919\u001b[0m     \u001b[39mobject\u001b[39m\u001b[39m.\u001b[39m\u001b[39m__getattribute__\u001b[39m(\u001b[39mself\u001b[39m, name)\n\u001b[1;32m-> 5920\u001b[0m     \u001b[39mreturn\u001b[39;00m \u001b[39mobject\u001b[39;49m\u001b[39m.\u001b[39;49m\u001b[39m__setattr__\u001b[39;49m(\u001b[39mself\u001b[39;49m, name, value)\n\u001b[0;32m   5921\u001b[0m \u001b[39mexcept\u001b[39;00m \u001b[39mAttributeError\u001b[39;00m:\n\u001b[0;32m   5922\u001b[0m     \u001b[39mpass\u001b[39;00m\n",
      "File \u001b[1;32mc:\\ProgramData\\Anaconda3\\envs\\myenv\\lib\\site-packages\\pandas\\_libs\\properties.pyx:69\u001b[0m, in \u001b[0;36mpandas._libs.properties.AxisProperty.__set__\u001b[1;34m()\u001b[0m\n",
      "File \u001b[1;32mc:\\ProgramData\\Anaconda3\\envs\\myenv\\lib\\site-packages\\pandas\\core\\generic.py:822\u001b[0m, in \u001b[0;36mNDFrame._set_axis\u001b[1;34m(self, axis, labels)\u001b[0m\n\u001b[0;32m    820\u001b[0m \u001b[39mdef\u001b[39;00m \u001b[39m_set_axis\u001b[39m(\u001b[39mself\u001b[39m, axis: \u001b[39mint\u001b[39m, labels: AnyArrayLike \u001b[39m|\u001b[39m \u001b[39mlist\u001b[39m) \u001b[39m-\u001b[39m\u001b[39m>\u001b[39m \u001b[39mNone\u001b[39;00m:\n\u001b[0;32m    821\u001b[0m     labels \u001b[39m=\u001b[39m ensure_index(labels)\n\u001b[1;32m--> 822\u001b[0m     \u001b[39mself\u001b[39;49m\u001b[39m.\u001b[39;49m_mgr\u001b[39m.\u001b[39;49mset_axis(axis, labels)\n\u001b[0;32m    823\u001b[0m     \u001b[39mself\u001b[39m\u001b[39m.\u001b[39m_clear_item_cache()\n",
      "File \u001b[1;32mc:\\ProgramData\\Anaconda3\\envs\\myenv\\lib\\site-packages\\pandas\\core\\internals\\managers.py:228\u001b[0m, in \u001b[0;36mBaseBlockManager.set_axis\u001b[1;34m(self, axis, new_labels)\u001b[0m\n\u001b[0;32m    226\u001b[0m \u001b[39mdef\u001b[39;00m \u001b[39mset_axis\u001b[39m(\u001b[39mself\u001b[39m, axis: \u001b[39mint\u001b[39m, new_labels: Index) \u001b[39m-\u001b[39m\u001b[39m>\u001b[39m \u001b[39mNone\u001b[39;00m:\n\u001b[0;32m    227\u001b[0m     \u001b[39m# Caller is responsible for ensuring we have an Index object.\u001b[39;00m\n\u001b[1;32m--> 228\u001b[0m     \u001b[39mself\u001b[39;49m\u001b[39m.\u001b[39;49m_validate_set_axis(axis, new_labels)\n\u001b[0;32m    229\u001b[0m     \u001b[39mself\u001b[39m\u001b[39m.\u001b[39maxes[axis] \u001b[39m=\u001b[39m new_labels\n",
      "File \u001b[1;32mc:\\ProgramData\\Anaconda3\\envs\\myenv\\lib\\site-packages\\pandas\\core\\internals\\base.py:70\u001b[0m, in \u001b[0;36mDataManager._validate_set_axis\u001b[1;34m(self, axis, new_labels)\u001b[0m\n\u001b[0;32m     67\u001b[0m     \u001b[39mpass\u001b[39;00m\n\u001b[0;32m     69\u001b[0m \u001b[39melif\u001b[39;00m new_len \u001b[39m!=\u001b[39m old_len:\n\u001b[1;32m---> 70\u001b[0m     \u001b[39mraise\u001b[39;00m \u001b[39mValueError\u001b[39;00m(\n\u001b[0;32m     71\u001b[0m         \u001b[39mf\u001b[39m\u001b[39m\"\u001b[39m\u001b[39mLength mismatch: Expected axis has \u001b[39m\u001b[39m{\u001b[39;00mold_len\u001b[39m}\u001b[39;00m\u001b[39m elements, new \u001b[39m\u001b[39m\"\u001b[39m\n\u001b[0;32m     72\u001b[0m         \u001b[39mf\u001b[39m\u001b[39m\"\u001b[39m\u001b[39mvalues have \u001b[39m\u001b[39m{\u001b[39;00mnew_len\u001b[39m}\u001b[39;00m\u001b[39m elements\u001b[39m\u001b[39m\"\u001b[39m\n\u001b[0;32m     73\u001b[0m     )\n",
      "\u001b[1;31mValueError\u001b[0m: Length mismatch: Expected axis has 42 elements, new values have 87 elements"
     ]
    }
   ],
   "source": [
    "def get_CF(input_df, input_num, col1, coln):\n",
    "    # Take the data of crawfish1 from df to a new df called CF1\n",
    "    CF = input_df.iloc[2:,col1:coln]\n",
    "    # Rename the columns\n",
    "    CF.columns = new_columns\n",
    "    # Remove columns with _likelihood\n",
    "    CF = CF.loc[:,~CF.columns.str.contains('_likelihood')]\n",
    "    # Take only 18001 rows\n",
    "    CF = CF.iloc[:length+1]\n",
    "    # Check if CF1 have rows with NaN\n",
    "    if CF.isnull().values.any():\n",
    "        print(f\"CF{input_num} has NaN\")\n",
    "        # fill it with previous value\n",
    "        CF = CF.fillna(method='ffill')\n",
    "        print(f'Filled NaN in CF{input_num} with previous value')\n",
    "    else:\n",
    "        print(f\"CF{input_num} has no NaN\")\n",
    "    # Reset Index\n",
    "    CF = CF.reset_index(drop=True)\n",
    "\n",
    "    # Change all values in CF1 and CF2 to float\n",
    "    CF = CF.astype(float)\n",
    "\n",
    "    return CF\n",
    "\n",
    "CF1 = get_CF(input_df, 1, 1, len(row_0)*3+1)\n",
    "CF1"
   ]
  },
  {
   "cell_type": "code",
   "execution_count": null,
   "metadata": {},
   "outputs": [],
   "source": []
  }
 ],
 "metadata": {
  "kernelspec": {
   "display_name": "myenv",
   "language": "python",
   "name": "python3"
  },
  "language_info": {
   "codemirror_mode": {
    "name": "ipython",
    "version": 3
   },
   "file_extension": ".py",
   "mimetype": "text/x-python",
   "name": "python",
   "nbconvert_exporter": "python",
   "pygments_lexer": "ipython3",
   "version": "3.9.13"
  },
  "orig_nbformat": 4
 },
 "nbformat": 4,
 "nbformat_minor": 2
}
